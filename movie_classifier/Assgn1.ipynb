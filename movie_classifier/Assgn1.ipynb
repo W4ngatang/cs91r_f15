{
 "cells": [
  {
   "cell_type": "code",
   "execution_count": 41,
   "metadata": {
    "collapsed": true
   },
   "outputs": [],
   "source": [
    "import numpy as np\n",
    "import re\n",
    "import h5py"
   ]
  },
  {
   "cell_type": "code",
   "execution_count": 30,
   "metadata": {
    "collapsed": false
   },
   "outputs": [],
   "source": [
    "# preprocessing\n",
    "to_process = ['assgn1/rt-polarity.neg', 'assgn1/rt-polarity.pos']\n",
    "\n",
    "# n is size of embeddings\n",
    "# iterate through the files\n",
    "# for each file, iterate through rows,\n",
    "# split on spaces (how to handle punctuation?)\n",
    "def build_vocab(files):\n",
    "    vocab = {\"/s\": 0, \"pad\":1}\n",
    "    counter = 2\n",
    "    for file_h in files:\n",
    "        with open(file_h, \"rb\") as fh:\n",
    "            for line in fh:\n",
    "                # filters out punctuation (preserves contractions), not numbers\n",
    "                words = re.findall(r\"[\\w']+\", line)\n",
    "                for word in words:\n",
    "                    if word not in vocab:\n",
    "                        vocab[word] = counter\n",
    "                        counter += 1\n",
    "    return vocab\n",
    "\n",
    "vocab = build_vocab(to_process)"
   ]
  },
  {
   "cell_type": "code",
   "execution_count": 46,
   "metadata": {
    "collapsed": false
   },
   "outputs": [
    {
     "name": "stdout",
     "output_type": "stream",
     "text": [
      "13525\n"
     ]
    }
   ],
   "source": []
  },
  {
   "cell_type": "code",
   "execution_count": 31,
   "metadata": {
    "collapsed": false
   },
   "outputs": [],
   "source": [
    "def make_data(file_h, n):\n",
    "    data = []\n",
    "    with open(file_h, \"rb\") as fh:\n",
    "        for line in fh:\n",
    "            datum = []\n",
    "            words = re.findall(r\"[\\w']+\", line)\n",
    "            for i in xrange(n):\n",
    "                if i < len(words):\n",
    "                    datum.append(vocab[words[i]])\n",
    "                else:\n",
    "                    datum.append(1)\n",
    "            data.append(datum)\n",
    "    return np.array(data)"
   ]
  },
  {
   "cell_type": "code",
   "execution_count": 32,
   "metadata": {
    "collapsed": false
   },
   "outputs": [],
   "source": [
    "pos = make_data(to_process[1], 10)\n",
    "neg = make_data(to_process[0], 10)"
   ]
  },
  {
   "cell_type": "code",
   "execution_count": 42,
   "metadata": {
    "collapsed": false
   },
   "outputs": [
    {
     "name": "stdout",
     "output_type": "stream",
     "text": [
      "(5331, 10) (5331, 10)\n"
     ]
    }
   ],
   "source": [
    "print np.shape(pos), np.shape(neg)"
   ]
  },
  {
   "cell_type": "code",
   "execution_count": 45,
   "metadata": {
    "collapsed": false
   },
   "outputs": [],
   "source": [
    "with h5py.File(\"movie_reviews.hdf5\", \"w\") as f:\n",
    "    dset1 = f.create_dataset(\"neg\", data=neg)\n",
    "    dset2 = f.create_dataset(\"pos\", data=pos)\n",
    "#    vocab = f.create_dataset(\"vocab\", data=vocab)"
   ]
  },
  {
   "cell_type": "code",
   "execution_count": null,
   "metadata": {
    "collapsed": true
   },
   "outputs": [],
   "source": [
    "import numpy as np\n",
    "import cPickle\n",
    "from collections import defaultdict\n",
    "import sys, re\n",
    "import pandas as pd\n",
    "\n",
    "def load_bin_vec(fname, vocab):\n",
    "    \"\"\"\n",
    "    Loads 300x1 word vecs from Google (Mikolov) word2vec\n",
    "    \"\"\"\n",
    "    word_vecs = {}\n",
    "    with open(fname, \"rb\") as f:\n",
    "        header = f.readline()\n",
    "        vocab_size, layer1_size = map(int, header.split())\n",
    "        binary_len = np.dtype('float32').itemsize * layer1_size\n",
    "        for line in xrange(vocab_size):\n",
    "            word = []\n",
    "            while True:\n",
    "                ch = f.read(1)\n",
    "                if ch == ' ':\n",
    "                    word = ''.join(word)\n",
    "                    break\n",
    "                if ch != '\\n':\n",
    "                    word.append(ch)   \n",
    "            if word in vocab:\n",
    "               word_vecs[word] = np.fromstring(f.read(binary_len), dtype='float32')  \n",
    "            else:\n",
    "                f.read(binary_len)\n",
    "    return word_vecs\n",
    "\n",
    "if __name__==\"__main__\":    \n",
    "    w2v_file = sys.argv[1]     \n",
    "    # Set vocab to a dict of word frequencies\n",
    "    vocab = {}\n",
    "\n",
    "    print \"loading word2vec vectors...\",\n",
    "    w2v = load_bin_vec(w2v_file, vocab)\n",
    "    print \"word2vec loaded!\"\n",
    "    print \"num words in word2vec: \" + str(len(w2v))"
   ]
  }
 ],
 "metadata": {
  "kernelspec": {
   "display_name": "Python 2",
   "language": "python",
   "name": "python2"
  },
  "language_info": {
   "codemirror_mode": {
    "name": "ipython",
    "version": 2
   },
   "file_extension": ".py",
   "mimetype": "text/x-python",
   "name": "python",
   "nbconvert_exporter": "python",
   "pygments_lexer": "ipython2",
   "version": "2.7.10"
  }
 },
 "nbformat": 4,
 "nbformat_minor": 0
}
